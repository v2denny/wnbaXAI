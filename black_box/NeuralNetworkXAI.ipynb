{
 "cells": [
  {
   "cell_type": "markdown",
   "id": "9002d13d-19e7-4624-a095-4bd1e364fc51",
   "metadata": {},
   "source": [
    "# Post-hoc XAI - Training a Neural Network and explaining it with ANCHOR"
   ]
  },
  {
   "cell_type": "code",
   "execution_count": 66,
   "id": "5d647da2-8286-49ba-ada4-44ec6e186bd8",
   "metadata": {},
   "outputs": [],
   "source": [
    "import pandas as pd\n",
    "df = pd.read_csv(\"wnba_clean.csv\")"
   ]
  },
  {
   "cell_type": "code",
   "execution_count": 68,
   "id": "5e1ee597-4072-4c50-af2f-e36d3b93f0c5",
   "metadata": {},
   "outputs": [
    {
     "data": {
      "text/html": [
       "<div>\n",
       "<style scoped>\n",
       "    .dataframe tbody tr th:only-of-type {\n",
       "        vertical-align: middle;\n",
       "    }\n",
       "\n",
       "    .dataframe tbody tr th {\n",
       "        vertical-align: top;\n",
       "    }\n",
       "\n",
       "    .dataframe thead th {\n",
       "        text-align: right;\n",
       "    }\n",
       "</style>\n",
       "<table border=\"1\" class=\"dataframe\">\n",
       "  <thead>\n",
       "    <tr style=\"text-align: right;\">\n",
       "      <th></th>\n",
       "      <th>shot_type</th>\n",
       "      <th>made_shot</th>\n",
       "      <th>shot_value</th>\n",
       "      <th>coordinate_x</th>\n",
       "      <th>coordinate_y</th>\n",
       "      <th>home_score</th>\n",
       "      <th>away_score</th>\n",
       "      <th>qtr</th>\n",
       "      <th>quarter_seconds_remaining</th>\n",
       "      <th>game_seconds_remaining</th>\n",
       "      <th>shot_group</th>\n",
       "      <th>distance</th>\n",
       "      <th>shot_group_encoded</th>\n",
       "      <th>shot_type_encoded</th>\n",
       "    </tr>\n",
       "  </thead>\n",
       "  <tbody>\n",
       "    <tr>\n",
       "      <th>0</th>\n",
       "      <td>Jump Shot</td>\n",
       "      <td>False</td>\n",
       "      <td>0</td>\n",
       "      <td>-13</td>\n",
       "      <td>9</td>\n",
       "      <td>0</td>\n",
       "      <td>0</td>\n",
       "      <td>1</td>\n",
       "      <td>571</td>\n",
       "      <td>2371</td>\n",
       "      <td>Jump Shot</td>\n",
       "      <td>15.811388</td>\n",
       "      <td>3</td>\n",
       "      <td>29</td>\n",
       "    </tr>\n",
       "    <tr>\n",
       "      <th>1</th>\n",
       "      <td>Turnaround Bank Jump Shot</td>\n",
       "      <td>False</td>\n",
       "      <td>0</td>\n",
       "      <td>0</td>\n",
       "      <td>0</td>\n",
       "      <td>0</td>\n",
       "      <td>0</td>\n",
       "      <td>1</td>\n",
       "      <td>551</td>\n",
       "      <td>2351</td>\n",
       "      <td>Jump Shot</td>\n",
       "      <td>0.000000</td>\n",
       "      <td>3</td>\n",
       "      <td>8</td>\n",
       "    </tr>\n",
       "    <tr>\n",
       "      <th>2</th>\n",
       "      <td>Cutting Layup Shot</td>\n",
       "      <td>True</td>\n",
       "      <td>2</td>\n",
       "      <td>-21</td>\n",
       "      <td>2</td>\n",
       "      <td>0</td>\n",
       "      <td>2</td>\n",
       "      <td>1</td>\n",
       "      <td>538</td>\n",
       "      <td>2338</td>\n",
       "      <td>Layup</td>\n",
       "      <td>21.095023</td>\n",
       "      <td>1</td>\n",
       "      <td>25</td>\n",
       "    </tr>\n",
       "    <tr>\n",
       "      <th>3</th>\n",
       "      <td>Driving Layup Shot</td>\n",
       "      <td>True</td>\n",
       "      <td>2</td>\n",
       "      <td>0</td>\n",
       "      <td>0</td>\n",
       "      <td>2</td>\n",
       "      <td>2</td>\n",
       "      <td>1</td>\n",
       "      <td>524</td>\n",
       "      <td>2324</td>\n",
       "      <td>Layup</td>\n",
       "      <td>0.000000</td>\n",
       "      <td>1</td>\n",
       "      <td>14</td>\n",
       "    </tr>\n",
       "    <tr>\n",
       "      <th>4</th>\n",
       "      <td>Jump Shot</td>\n",
       "      <td>True</td>\n",
       "      <td>3</td>\n",
       "      <td>0</td>\n",
       "      <td>21</td>\n",
       "      <td>2</td>\n",
       "      <td>5</td>\n",
       "      <td>1</td>\n",
       "      <td>512</td>\n",
       "      <td>2312</td>\n",
       "      <td>Jump Shot</td>\n",
       "      <td>21.000000</td>\n",
       "      <td>3</td>\n",
       "      <td>29</td>\n",
       "    </tr>\n",
       "    <tr>\n",
       "      <th>...</th>\n",
       "      <td>...</td>\n",
       "      <td>...</td>\n",
       "      <td>...</td>\n",
       "      <td>...</td>\n",
       "      <td>...</td>\n",
       "      <td>...</td>\n",
       "      <td>...</td>\n",
       "      <td>...</td>\n",
       "      <td>...</td>\n",
       "      <td>...</td>\n",
       "      <td>...</td>\n",
       "      <td>...</td>\n",
       "      <td>...</td>\n",
       "      <td>...</td>\n",
       "    </tr>\n",
       "    <tr>\n",
       "      <th>41492</th>\n",
       "      <td>Turnaround Fade Away Jump Shot</td>\n",
       "      <td>False</td>\n",
       "      <td>0</td>\n",
       "      <td>-2</td>\n",
       "      <td>5</td>\n",
       "      <td>71</td>\n",
       "      <td>77</td>\n",
       "      <td>4</td>\n",
       "      <td>24</td>\n",
       "      <td>24</td>\n",
       "      <td>Jump Shot</td>\n",
       "      <td>5.385165</td>\n",
       "      <td>3</td>\n",
       "      <td>6</td>\n",
       "    </tr>\n",
       "    <tr>\n",
       "      <th>41493</th>\n",
       "      <td>Jump Shot</td>\n",
       "      <td>False</td>\n",
       "      <td>0</td>\n",
       "      <td>0</td>\n",
       "      <td>3</td>\n",
       "      <td>71</td>\n",
       "      <td>77</td>\n",
       "      <td>4</td>\n",
       "      <td>19</td>\n",
       "      <td>19</td>\n",
       "      <td>Jump Shot</td>\n",
       "      <td>3.000000</td>\n",
       "      <td>3</td>\n",
       "      <td>29</td>\n",
       "    </tr>\n",
       "    <tr>\n",
       "      <th>41494</th>\n",
       "      <td>Free Throw - 1 of 2</td>\n",
       "      <td>False</td>\n",
       "      <td>0</td>\n",
       "      <td>0</td>\n",
       "      <td>15</td>\n",
       "      <td>71</td>\n",
       "      <td>77</td>\n",
       "      <td>4</td>\n",
       "      <td>16</td>\n",
       "      <td>16</td>\n",
       "      <td>Free Throw</td>\n",
       "      <td>29.154759</td>\n",
       "      <td>6</td>\n",
       "      <td>53</td>\n",
       "    </tr>\n",
       "    <tr>\n",
       "      <th>41495</th>\n",
       "      <td>Free Throw - 2 of 2</td>\n",
       "      <td>True</td>\n",
       "      <td>1</td>\n",
       "      <td>0</td>\n",
       "      <td>15</td>\n",
       "      <td>71</td>\n",
       "      <td>78</td>\n",
       "      <td>4</td>\n",
       "      <td>16</td>\n",
       "      <td>16</td>\n",
       "      <td>Free Throw</td>\n",
       "      <td>29.154759</td>\n",
       "      <td>6</td>\n",
       "      <td>52</td>\n",
       "    </tr>\n",
       "    <tr>\n",
       "      <th>41496</th>\n",
       "      <td>Jump Shot</td>\n",
       "      <td>False</td>\n",
       "      <td>0</td>\n",
       "      <td>0</td>\n",
       "      <td>17</td>\n",
       "      <td>71</td>\n",
       "      <td>78</td>\n",
       "      <td>4</td>\n",
       "      <td>7</td>\n",
       "      <td>7</td>\n",
       "      <td>Jump Shot</td>\n",
       "      <td>17.000000</td>\n",
       "      <td>3</td>\n",
       "      <td>29</td>\n",
       "    </tr>\n",
       "  </tbody>\n",
       "</table>\n",
       "<p>41497 rows × 14 columns</p>\n",
       "</div>"
      ],
      "text/plain": [
       "                            shot_type  made_shot  shot_value  coordinate_x  \\\n",
       "0                           Jump Shot      False           0           -13   \n",
       "1           Turnaround Bank Jump Shot      False           0             0   \n",
       "2                  Cutting Layup Shot       True           2           -21   \n",
       "3                  Driving Layup Shot       True           2             0   \n",
       "4                           Jump Shot       True           3             0   \n",
       "...                               ...        ...         ...           ...   \n",
       "41492  Turnaround Fade Away Jump Shot      False           0            -2   \n",
       "41493                       Jump Shot      False           0             0   \n",
       "41494             Free Throw - 1 of 2      False           0             0   \n",
       "41495             Free Throw - 2 of 2       True           1             0   \n",
       "41496                       Jump Shot      False           0             0   \n",
       "\n",
       "       coordinate_y  home_score  away_score  qtr  quarter_seconds_remaining  \\\n",
       "0                 9           0           0    1                        571   \n",
       "1                 0           0           0    1                        551   \n",
       "2                 2           0           2    1                        538   \n",
       "3                 0           2           2    1                        524   \n",
       "4                21           2           5    1                        512   \n",
       "...             ...         ...         ...  ...                        ...   \n",
       "41492             5          71          77    4                         24   \n",
       "41493             3          71          77    4                         19   \n",
       "41494            15          71          77    4                         16   \n",
       "41495            15          71          78    4                         16   \n",
       "41496            17          71          78    4                          7   \n",
       "\n",
       "       game_seconds_remaining  shot_group   distance  shot_group_encoded  \\\n",
       "0                        2371   Jump Shot  15.811388                   3   \n",
       "1                        2351   Jump Shot   0.000000                   3   \n",
       "2                        2338       Layup  21.095023                   1   \n",
       "3                        2324       Layup   0.000000                   1   \n",
       "4                        2312   Jump Shot  21.000000                   3   \n",
       "...                       ...         ...        ...                 ...   \n",
       "41492                      24   Jump Shot   5.385165                   3   \n",
       "41493                      19   Jump Shot   3.000000                   3   \n",
       "41494                      16  Free Throw  29.154759                   6   \n",
       "41495                      16  Free Throw  29.154759                   6   \n",
       "41496                       7   Jump Shot  17.000000                   3   \n",
       "\n",
       "       shot_type_encoded  \n",
       "0                     29  \n",
       "1                      8  \n",
       "2                     25  \n",
       "3                     14  \n",
       "4                     29  \n",
       "...                  ...  \n",
       "41492                  6  \n",
       "41493                 29  \n",
       "41494                 53  \n",
       "41495                 52  \n",
       "41496                 29  \n",
       "\n",
       "[41497 rows x 14 columns]"
      ]
     },
     "execution_count": 68,
     "metadata": {},
     "output_type": "execute_result"
    }
   ],
   "source": [
    "df"
   ]
  },
  {
   "cell_type": "code",
   "execution_count": 37,
   "id": "66840c52-2ca5-4ceb-9bce-9639de3f5c98",
   "metadata": {},
   "outputs": [
    {
     "name": "stdout",
     "output_type": "stream",
     "text": [
      "X_train shape: torch.Size([33197, 10])\n",
      "X_test shape: torch.Size([8300, 10])\n",
      "Features used: ['coordinate_x', 'coordinate_y', 'distance', 'shot_type_encoded', 'shot_group_encoded', 'home_score', 'away_score', 'qtr', 'quarter_seconds_remaining', 'game_seconds_remaining']\n"
     ]
    }
   ],
   "source": [
    "# Step 1: Load and Prepare the Dataset\n",
    "import numpy as np\n",
    "import pandas as pd\n",
    "from sklearn.model_selection import train_test_split\n",
    "from sklearn.preprocessing import StandardScaler\n",
    "import torch\n",
    "import torch.nn as nn\n",
    "import torch.optim as optim\n",
    "from alibi.explainers import AnchorTabular\n",
    "\n",
    "# Load the WNBA dataset\n",
    "data_path = 'wnba_clean.csv'\n",
    "df = pd.read_csv(data_path)\n",
    "\n",
    "# Define target and features\n",
    "target = 'made_shot'\n",
    "features = [\n",
    "    'coordinate_x', 'coordinate_y', 'distance', 'shot_type_encoded','shot_group_encoded',\n",
    "    'home_score', 'away_score', 'qtr', \n",
    "    'quarter_seconds_remaining', 'game_seconds_remaining'\n",
    "]\n",
    "\n",
    "# Split dataset into train and test sets\n",
    "X = df[features]\n",
    "y = df[target]\n",
    "X_train, X_test, y_train, y_test = train_test_split(X, y, test_size=0.2, random_state=42)\n",
    "\n",
    "# Standardize numerical features\n",
    "scaler = StandardScaler()\n",
    "X_train_scaled = scaler.fit_transform(X_train)\n",
    "X_test_scaled = scaler.transform(X_test)\n",
    "\n",
    "# Convert data to PyTorch tensors\n",
    "X_train_tensor = torch.tensor(X_train_scaled, dtype=torch.float32)\n",
    "X_test_tensor = torch.tensor(X_test_scaled, dtype=torch.float32)\n",
    "y_train_tensor = torch.tensor(y_train.values, dtype=torch.float32).view(-1, 1)\n",
    "y_test_tensor = torch.tensor(y_test.values, dtype=torch.float32).view(-1, 1)\n",
    "\n",
    "# Debugging: Check dataset shapes and features\n",
    "print(\"X_train shape:\", X_train_tensor.shape)\n",
    "print(\"X_test shape:\", X_test_tensor.shape)\n",
    "print(\"Features used:\", features)\n"
   ]
  },
  {
   "cell_type": "code",
   "execution_count": 38,
   "id": "5b3cc619-abc2-4836-8a86-9c7316d29544",
   "metadata": {},
   "outputs": [
    {
     "name": "stdout",
     "output_type": "stream",
     "text": [
      "Epoch 1/20, Loss: 0.6986\n",
      "Epoch 2/20, Loss: 0.6599\n",
      "Epoch 3/20, Loss: 0.6118\n",
      "Epoch 4/20, Loss: 0.6727\n",
      "Epoch 5/20, Loss: 0.6060\n",
      "Epoch 6/20, Loss: 0.6473\n",
      "Epoch 7/20, Loss: 0.7077\n",
      "Epoch 8/20, Loss: 0.5713\n",
      "Epoch 9/20, Loss: 0.7823\n",
      "Epoch 10/20, Loss: 0.7451\n",
      "Epoch 11/20, Loss: 0.8162\n",
      "Epoch 12/20, Loss: 0.5879\n",
      "Epoch 13/20, Loss: 0.6633\n",
      "Epoch 14/20, Loss: 0.5392\n",
      "Epoch 15/20, Loss: 0.6609\n",
      "Epoch 16/20, Loss: 0.7169\n",
      "Epoch 17/20, Loss: 0.5934\n",
      "Epoch 18/20, Loss: 0.5221\n",
      "Epoch 19/20, Loss: 0.5922\n",
      "Epoch 20/20, Loss: 0.5061\n"
     ]
    }
   ],
   "source": [
    "class AdvancedNN(nn.Module):\n",
    "    def __init__(self, input_dim):\n",
    "        super(AdvancedNN, self).__init__()\n",
    "        self.fc1 = nn.Linear(input_dim, 128)\n",
    "        self.bn1 = nn.BatchNorm1d(128)\n",
    "        self.relu1 = nn.ReLU()\n",
    "        self.dropout1 = nn.Dropout(0.3)\n",
    "        \n",
    "        self.fc2 = nn.Linear(128, 64)\n",
    "        self.bn2 = nn.BatchNorm1d(64)\n",
    "        self.relu2 = nn.ReLU()\n",
    "        self.dropout2 = nn.Dropout(0.3)\n",
    "        \n",
    "        self.fc3 = nn.Linear(64, 32)\n",
    "        self.relu3 = nn.ReLU()\n",
    "        self.fc4 = nn.Linear(32, 1)\n",
    "        self.sigmoid = nn.Sigmoid()\n",
    "\n",
    "    def forward(self, x):\n",
    "        x = self.dropout1(self.relu1(self.bn1(self.fc1(x))))\n",
    "        x = self.dropout2(self.relu2(self.bn2(self.fc2(x))))\n",
    "        x = self.relu3(self.fc3(x))\n",
    "        x = self.sigmoid(self.fc4(x))\n",
    "        return x\n",
    "\n",
    "\n",
    "# Initialize model\n",
    "input_dim = X_train_tensor.shape[1]  # 10 input features\n",
    "model = AdvancedNN(input_dim)\n",
    "\n",
    "# Define loss function and optimizer\n",
    "criterion = nn.BCELoss()\n",
    "optimizer = optim.Adam(model.parameters(), lr=0.001)\n",
    "\n",
    "# Train the model\n",
    "epochs = 20  # Increase epochs for better learning\n",
    "batch_size = 32\n",
    "\n",
    "for epoch in range(epochs):\n",
    "    model.train()\n",
    "    permutation = torch.randperm(X_train_tensor.size(0))  # Shuffle training data\n",
    "    for i in range(0, X_train_tensor.size(0), batch_size):\n",
    "        indices = permutation[i:i + batch_size]\n",
    "        batch_X, batch_y = X_train_tensor[indices], y_train_tensor[indices]\n",
    "\n",
    "        # Zero gradients\n",
    "        optimizer.zero_grad()\n",
    "\n",
    "        # Forward pass\n",
    "        outputs = model(batch_X)\n",
    "\n",
    "        # Compute loss\n",
    "        loss = criterion(outputs, batch_y)\n",
    "\n",
    "        # Backward pass\n",
    "        loss.backward()\n",
    "\n",
    "        # Optimize\n",
    "        optimizer.step()\n",
    "\n",
    "    # Print loss for each epoch\n",
    "    print(f\"Epoch {epoch + 1}/{epochs}, Loss: {loss.item():.4f}\")\n"
   ]
  },
  {
   "cell_type": "code",
   "execution_count": 39,
   "id": "aac7af94-8a6f-4faf-82f2-13c79cd38e1e",
   "metadata": {},
   "outputs": [
    {
     "name": "stdout",
     "output_type": "stream",
     "text": [
      "Test Set Accuracy: 0.6687\n"
     ]
    }
   ],
   "source": [
    "# Evaluate the model on the test set\n",
    "model.eval()  # Set the model to evaluation mode\n",
    "with torch.no_grad():  # Disable gradient computation for evaluation\n",
    "    predictions = model(X_test_tensor)\n",
    "    predictions = (predictions > 0.5).float()  # Convert probabilities to binary predictions\n",
    "    accuracy = (predictions == y_test_tensor).float().mean().item()  # Calculate accuracy\n",
    "\n",
    "print(f\"Test Set Accuracy: {accuracy:.4f}\")\n"
   ]
  },
  {
   "cell_type": "markdown",
   "id": "575357a4-1137-4fc1-918c-9f589b2b0262",
   "metadata": {},
   "source": [
    "# Now lets use some post-hoc techniques for this model\n"
   ]
  },
  {
   "cell_type": "code",
   "execution_count": 40,
   "id": "afeb6b15-b19b-4ac0-9a95-013f5bfa99d8",
   "metadata": {},
   "outputs": [
    {
     "data": {
      "text/plain": [
       "AnchorTabular(meta={\n",
       "  'name': 'AnchorTabular',\n",
       "  'type': ['blackbox'],\n",
       "  'explanations': ['local'],\n",
       "  'params': {'seed': 420, 'disc_perc': (25, 50, 75)},\n",
       "  'version': '0.9.6'}\n",
       ")"
      ]
     },
     "execution_count": 40,
     "metadata": {},
     "output_type": "execute_result"
    }
   ],
   "source": [
    "from alibi.explainers import AnchorTabular\n",
    "\n",
    "# Define a prediction function for the trained neural network\n",
    "def predict_fn(x):\n",
    "    preds = model(torch.tensor(x, dtype=torch.float32)).detach().numpy()\n",
    "    return np.hstack((1 - preds, preds))  # Return probabilities for both classes\n",
    "\n",
    "# Initialize categorical_names dictionary\n",
    "categorical_names = {}\n",
    "\n",
    "# Map encoded categorical features to their categories\n",
    "categorical_names[3] = list(df['shot_type'].unique())  # Replace 3 with index of 'shot_type_encoded'\n",
    "categorical_names[4] = list(df['shot_group'].unique())  # Replace 4 with index of 'shot_group_encoded'\n",
    "\n",
    "# Feature names\n",
    "feature_names = ['coordinate_x', 'coordinate_y', 'distance', 'shot_type_encoded', 'shot_group_encoded',\n",
    "                 'home_score', 'away_score', 'qtr', 'quarter_seconds_remaining', 'game_seconds_remaining']\n",
    "\n",
    "# Initialize the AnchorTabular explainer\n",
    "explainer = AnchorTabular(predict_fn, feature_names, seed=420)\n",
    "\n",
    "# Fit the explainer on the training data\n",
    "explainer.fit(X_train_scaled, categorical_names=categorical_names)"
   ]
  },
  {
   "cell_type": "markdown",
   "id": "6fc93c11-3902-42f2-832f-a3e841745b3e",
   "metadata": {},
   "source": [
    "## Let's start by explaining the first 5 instances"
   ]
  },
  {
   "cell_type": "code",
   "execution_count": 41,
   "id": "ee640269-5df7-45b7-994a-8b4ce2ab7ba0",
   "metadata": {},
   "outputs": [
    {
     "name": "stdout",
     "output_type": "stream",
     "text": [
      "Instance 1 Explanation:\n",
      "Anchor: ['-1.22 < shot_group_encoded <= -0.05']\n",
      "Precision: 0.9661865998747652\n",
      "Coverage: 0.5232\n",
      "\n",
      "Instance 2 Explanation:\n",
      "Anchor: ['coordinate_y > 0.51', 'coordinate_x > -0.33']\n",
      "Precision: 0.9670710571923743\n",
      "Coverage: 0.1825\n",
      "\n",
      "Instance 3 Explanation:\n",
      "Anchor: ['shot_group_encoded <= -0.05', 'shot_type_encoded <= -0.55', 'quarter_seconds_remaining <= -0.89', 'home_score <= -0.85']\n",
      "Precision: 0.9748743718592965\n",
      "Coverage: 0.0092\n",
      "\n",
      "Instance 4 Explanation:\n",
      "Anchor: ['shot_group_encoded <= -1.22', 'coordinate_x <= -1.05', 'game_seconds_remaining > 0.01', 'away_score > -0.87', 'shot_type_encoded > -0.55']\n",
      "Precision: 0.9622926093514329\n",
      "Coverage: 0.006\n",
      "\n",
      "Instance 5 Explanation:\n",
      "Anchor: ['-1.22 < shot_group_encoded <= -0.05']\n",
      "Precision: 0.9663488502523836\n",
      "Coverage: 0.526\n",
      "\n"
     ]
    }
   ],
   "source": [
    "for i in range(5):  # Explain first 5 instances\n",
    "    instance = X_test_scaled[i].reshape(1, -1)\n",
    "    explanation = explainer.explain(instance)\n",
    "    print(f\"Instance {i + 1} Explanation:\")\n",
    "    print(f\"Anchor: {explanation.anchor}\")\n",
    "    print(f\"Precision: {explanation.precision}\")\n",
    "    print(f\"Coverage: {explanation.coverage}\\n\")"
   ]
  },
  {
   "cell_type": "markdown",
   "id": "2b0ef365-6660-48cb-a12f-506e44184c05",
   "metadata": {},
   "source": [
    "## We can see that instance 1 and 5 are explained by a 52% Coverage anchor which means it explains with 96.6% precision 52% of the test set scenarios, generalizing very well for that subgroup\n",
    "### Let's see what that istance is and what it represents by inverting the scaling of the features:"
   ]
  },
  {
   "cell_type": "code",
   "execution_count": 42,
   "id": "05496980-afca-4285-820a-f87b01f582e9",
   "metadata": {},
   "outputs": [
    {
     "name": "stdout",
     "output_type": "stream",
     "text": [
      "\n",
      "Original Feature Values:\n",
      "coordinate_x: 0.00\n",
      "coordinate_y: 4.00\n",
      "distance: 4.00\n",
      "shot_type_encoded: 17.00\n",
      "shot_group_encoded: 3.00\n",
      "home_score: 30.00\n",
      "away_score: 39.00\n",
      "qtr: 2.00\n",
      "quarter_seconds_remaining: 211.00\n",
      "game_seconds_remaining: 1411.00\n"
     ]
    }
   ],
   "source": [
    "# Lets explore deeply the instance with best coverage we found\n",
    "instance = X_test_scaled[4].reshape(1, -1)\n",
    "original_values = scaler.inverse_transform(instance)\n",
    "# Map the feature names to their original values\n",
    "real_values = dict(zip(features, original_values[0]))\n",
    "\n",
    "# Print the real values of the instance\n",
    "print(\"\\nOriginal Feature Values:\")\n",
    "for feature, value in real_values.items():\n",
    "    print(f\"{feature}: {value:.2f}\")\n"
   ]
  },
  {
   "cell_type": "code",
   "execution_count": 19,
   "id": "cd7df7eb-b531-44c3-b997-39f3a5cb41f9",
   "metadata": {},
   "outputs": [
    {
     "name": "stdout",
     "output_type": "stream",
     "text": [
      "Real Value Range for 'shot_group_encoded': 1.00 to 3.01\n"
     ]
    }
   ],
   "source": [
    "feature_index = features.index('shot_group_encoded')\n",
    "\n",
    "scaled_min = -1.22\n",
    "scaled_max = -0.05\n",
    "\n",
    "# Get the mean and std from the scaler\n",
    "mu = scaler.mean_[feature_index]\n",
    "sigma = scaler.scale_[feature_index]\n",
    "\n",
    "# Compute the original thresholds\n",
    "real_min = scaled_min * sigma + mu\n",
    "real_max = scaled_max * sigma + mu\n",
    "print(f\"Real Value Range for 'shot_group_encoded': {real_min:.2f} to {real_max:.2f}\")"
   ]
  },
  {
   "cell_type": "markdown",
   "id": "8e5368e3-1665-458d-b32d-61ffac7bdff4",
   "metadata": {},
   "source": [
    "### The results suggest that shot_group_encoded is from 1 to 3\n",
    "### Let's see what shot type is the equivalent of our encoding:"
   ]
  },
  {
   "cell_type": "code",
   "execution_count": 44,
   "id": "58d534b6-0216-4653-a5f7-629dbb775995",
   "metadata": {},
   "outputs": [
    {
     "name": "stdout",
     "output_type": "stream",
     "text": [
      "Unique Shot Types and Encoded Values with Counts:\n",
      "                               count\n",
      "shot_group shot_group_encoded       \n",
      "Dunk       0                       3\n",
      "Layup      1                   10820\n",
      "Hook Shot  2                     675\n",
      "Jump Shot  3                   21216\n",
      "Other      4                       1\n",
      "Tip Shot   5                     149\n",
      "Free Throw 6                    8633\n"
     ]
    }
   ],
   "source": [
    "# Add counts for shot_type and shot_type_encoded with a clean index\n",
    "unique_shot_types = (\n",
    "    df.groupby(['shot_group', 'shot_group_encoded'])\n",
    "    .size()\n",
    "    .reset_index(name='count')\n",
    "    .sort_values('shot_group_encoded')\n",
    "    .set_index(['shot_group', 'shot_group_encoded'])\n",
    ")\n",
    "print(\"Unique Shot Types and Encoded Values with Counts:\")\n",
    "print(unique_shot_types)"
   ]
  },
  {
   "cell_type": "markdown",
   "id": "ee36f933-d4f3-404e-8c42-7418f03b6a4e",
   "metadata": {},
   "source": [
    "### It's covering all of the shots that are a layup, hook shot, and jump shot!\n",
    "#### So it's safe to conclude that for every shot of this kind, the model predicts correctly 99.6% of the time, given this test set"
   ]
  },
  {
   "cell_type": "markdown",
   "id": "88cd1653-b9cd-4964-8fc2-632e78d5e98e",
   "metadata": {},
   "source": [
    "## Let's try to select an instance close to the decision boundary, it should be explained by a very complex anchor:"
   ]
  },
  {
   "cell_type": "code",
   "execution_count": 46,
   "id": "6b323a76-61c5-440b-aaf8-277310712e99",
   "metadata": {},
   "outputs": [
    {
     "name": "stdout",
     "output_type": "stream",
     "text": [
      "\n",
      "Anchor Explanation:\n",
      "Anchor: ['shot_group_encoded <= -0.05', 'shot_type_encoded <= -0.55', 'home_score <= -0.85', 'coordinate_x <= -0.33', 'distance <= 0.34']\n",
      "Precision: 0.9505703422053232\n",
      "Coverage: 0.0138\n"
     ]
    }
   ],
   "source": [
    "with torch.no_grad():\n",
    "    predictions = model(X_test_tensor).squeeze().numpy()  # Get probabilities\n",
    "    selected_instance_idx = np.argmin(np.abs(predictions - 0.5))  # Closest to 0.5\n",
    "\n",
    "instance = X_test_scaled[selected_instance_idx].reshape(1, -1)\n",
    "\n",
    "explanation = explainer.explain(instance)\n",
    "\n",
    "# Print the explanation\n",
    "print(\"\\nAnchor Explanation:\")\n",
    "print(f\"Anchor: {explanation.anchor}\")\n",
    "print(f\"Precision: {explanation.precision}\")\n",
    "print(f\"Coverage: {explanation.coverage}\")"
   ]
  },
  {
   "cell_type": "markdown",
   "id": "12e4f4a6-c4f7-44cf-aab5-bf04b63420b1",
   "metadata": {},
   "source": [
    "### Coverage below 5%, as expected"
   ]
  },
  {
   "cell_type": "markdown",
   "id": "eb29507f-8531-431f-a17d-9d56848283ed",
   "metadata": {},
   "source": [
    "## Let's try now a shot with a very small distance to the hoop"
   ]
  },
  {
   "cell_type": "code",
   "execution_count": 58,
   "id": "f622d674-920a-4d4c-8511-1208f2bdf9b1",
   "metadata": {},
   "outputs": [
    {
     "name": "stderr",
     "output_type": "stream",
     "text": [
      "C:\\Users\\Rafa Parkoureiro\\anaconda3\\envs\\TAAC\\Lib\\site-packages\\sklearn\\base.py:493: UserWarning: X does not have valid feature names, but StandardScaler was fitted with feature names\n",
      "  warnings.warn(\n"
     ]
    },
    {
     "name": "stdout",
     "output_type": "stream",
     "text": [
      "\n",
      "Original Feature Values:\n",
      "coordinate_x: 0.00\n",
      "coordinate_y: 0.00\n",
      "distance: -0.00\n",
      "shot_type_encoded: 8.00\n",
      "shot_group_encoded: 3.00\n",
      "home_score: 0.00\n",
      "away_score: 0.00\n",
      "qtr: 1.00\n",
      "quarter_seconds_remaining: 551.00\n",
      "game_seconds_remaining: 2351.00\n",
      "\n",
      "Anchor Explanation:\n",
      "Anchor: ['-1.22 < shot_group_encoded <= -0.05']\n",
      "Precision: 0.9694779116465864\n",
      "Coverage: 0.5393\n"
     ]
    }
   ],
   "source": [
    "# Define a helper function to scale and explain an instance\n",
    "def explain_instance(instance, explainer, scaler, feature_names):\n",
    "    # Scale the instance\n",
    "    instance_scaled = scaler.transform(instance[feature_names].values.reshape(1, -1))\n",
    "    \n",
    "    # Generate explanation\n",
    "    explanation = explainer.explain(instance_scaled)\n",
    "    \n",
    "    # Reverse scale the instance for better understanding\n",
    "    original_values = scaler.inverse_transform(instance_scaled)\n",
    "    real_values = dict(zip(feature_names, original_values[0]))\n",
    "    \n",
    "    # Print explanation and original values\n",
    "    print(\"\\nOriginal Feature Values:\")\n",
    "    for feature, value in real_values.items():\n",
    "        print(f\"{feature}: {value:.2f}\")\n",
    "    \n",
    "    print(\"\\nAnchor Explanation:\")\n",
    "    print(f\"Anchor: {explanation.anchor}\")\n",
    "    print(f\"Precision: {explanation.precision}\")\n",
    "    print(f\"Coverage: {explanation.coverage}\")\n",
    "\n",
    "# Pick a close shot (low distance)\n",
    "low_distance_threshold = 3  # Define a threshold for \"close shot\" in original units\n",
    "low_distance_mask = df['distance'] < low_distance_threshold\n",
    "\n",
    "if np.any(low_distance_mask):\n",
    "    close_shot = df[low_distance_mask].iloc[0]\n",
    "    explain_instance(close_shot, explainer, scaler, features)"
   ]
  },
  {
   "cell_type": "markdown",
   "id": "4cd80c6b-64d2-4f7c-a3e7-f60e86d467f5",
   "metadata": {},
   "source": [
    "# We can see that this istance is being covered by the same anchor"
   ]
  },
  {
   "cell_type": "markdown",
   "id": "960a0f8b-7425-4f4f-9698-21a8dc0807e6",
   "metadata": {},
   "source": [
    "## Let's try to see a shot that is not being covered by this anchor, like any free throw shot:"
   ]
  },
  {
   "cell_type": "code",
   "execution_count": 69,
   "id": "6632f853-4f27-4c91-80ee-5bcb3d8aa26b",
   "metadata": {},
   "outputs": [
    {
     "name": "stdout",
     "output_type": "stream",
     "text": [
      "\n",
      "Original Feature Values:\n",
      "coordinate_x: 0.00\n",
      "coordinate_y: 15.00\n",
      "distance: 29.15\n",
      "shot_type_encoded: 54.00\n",
      "shot_group_encoded: 6.00\n",
      "home_score: 4.00\n",
      "away_score: 8.00\n",
      "qtr: 1.00\n",
      "quarter_seconds_remaining: 478.00\n",
      "game_seconds_remaining: 2278.00\n",
      "\n",
      "Anchor Explanation:\n",
      "Anchor: ['shot_group_encoded > -0.05', 'shot_type_encoded > 0.43']\n",
      "Precision: 0.9924812030075187\n",
      "Coverage: 0.207\n"
     ]
    },
    {
     "name": "stderr",
     "output_type": "stream",
     "text": [
      "C:\\Users\\Rafa Parkoureiro\\anaconda3\\envs\\TAAC\\Lib\\site-packages\\sklearn\\base.py:493: UserWarning: X does not have valid feature names, but StandardScaler was fitted with feature names\n",
      "  warnings.warn(\n"
     ]
    }
   ],
   "source": [
    "# Pick a free throw shot\n",
    "free_throw_mask = df['shot_group'] == 'Free Throw'\n",
    "\n",
    "if np.any(free_throw_mask):\n",
    "    free_throw_shot = df[free_throw_mask].iloc[0]\n",
    "    explain_instance(free_throw_shot, explainer, scaler, features)"
   ]
  },
  {
   "cell_type": "code",
   "execution_count": 72,
   "id": "9af2d69c-9fe9-4728-af5d-3d7e73515536",
   "metadata": {},
   "outputs": [
    {
     "name": "stdout",
     "output_type": "stream",
     "text": [
      "Real Value Range for 'shot_group_encoded': 37.01\n"
     ]
    }
   ],
   "source": [
    "feature_index = features.index('shot_type_encoded')\n",
    "\n",
    "scaled_min = 0.43\n",
    "\n",
    "# Get the mean and std from the scaler\n",
    "mu = scaler.mean_[feature_index]\n",
    "sigma = scaler.scale_[feature_index]\n",
    "\n",
    "# Compute the original thresholds\n",
    "real_min = scaled_min * sigma + mu\n",
    "print(f\"Real Value Range for 'shot_group_encoded': {real_min:.2f}\")"
   ]
  },
  {
   "cell_type": "markdown",
   "id": "172a543c-14df-4cbe-a419-07a439036922",
   "metadata": {},
   "source": [
    "#### Let's see what this values are:"
   ]
  },
  {
   "cell_type": "code",
   "execution_count": 73,
   "id": "ba925757-8afc-4a79-9533-ef8dbb75a1ba",
   "metadata": {},
   "outputs": [
    {
     "name": "stdout",
     "output_type": "stream",
     "text": [
      "Unique Shot Types with shot_type_encoded > 37 and Counts:\n",
      "                                                  count\n",
      "shot_type                      shot_type_encoded       \n",
      "Hook Driving Bank              38                    10\n",
      "Running Pullup Jump Shot       39                   508\n",
      "Tip Shot                       40                   149\n",
      "Alley Oop Dunk Shot            41                     1\n",
      "Running Dunk Shot              42                     1\n",
      "Free Throw - 3 of 3            43                    95\n",
      "Free Throw - 2 of 3            44                    95\n",
      "Free Throw - 1 of 3            45                    95\n",
      "Free Throw - Flagrant 2 of 3   46                    15\n",
      "Free Throw - Flagrant 2 of 2   47                    28\n",
      "Free Throw - Flagrant 1 of 3   48                    15\n",
      "Free Throw - Flagrant 1 of 2   49                    28\n",
      "Free Throw - Clear Path 2 of 2 50                    14\n",
      "Free Throw - Clear Path 1 of 2 51                    14\n",
      "Free Throw - 2 of 2            52                  3545\n",
      "Free Throw - 1 of 2            53                  3547\n",
      "Free Throw - 1 of 1            54                   939\n",
      "Free Throw - Technical         55                   182\n",
      "Free Throw - Flagrant 3 of 3   56                    15\n",
      "Free Throw - Flagrant 1 of 1   57                     6\n"
     ]
    }
   ],
   "source": [
    "# Filter for shot_type_encoded > 37\n",
    "filtered_df = df[df['shot_type_encoded'] > 37]\n",
    "\n",
    "# Add counts for shot_type and shot_type_encoded with a clean index\n",
    "unique_shot_types_filtered = (\n",
    "    filtered_df.groupby(['shot_type', 'shot_type_encoded'])\n",
    "    .size()\n",
    "    .reset_index(name='count')\n",
    "    .sort_values('shot_type_encoded')\n",
    "    .set_index(['shot_type', 'shot_type_encoded'])\n",
    ")\n",
    "\n",
    "print(\"Unique Shot Types with shot_type_encoded > 37 and Counts:\")\n",
    "print(unique_shot_types_filtered)"
   ]
  },
  {
   "cell_type": "markdown",
   "id": "ffd67c0d-818b-478f-9ac7-b48b9a219a30",
   "metadata": {},
   "source": [
    "### This anchor covers all the \"other\", tip shots, and Free throws.\n",
    "### All these shots are covered with an anchor with 99.2% precision, covering over 20% of instances."
   ]
  },
  {
   "cell_type": "code",
   "execution_count": null,
   "id": "7a0f352e-1cbc-4da2-805b-c9e563c62e41",
   "metadata": {},
   "outputs": [],
   "source": []
  }
 ],
 "metadata": {
  "kernelspec": {
   "display_name": "Python 3 (ipykernel)",
   "language": "python",
   "name": "python3"
  },
  "language_info": {
   "codemirror_mode": {
    "name": "ipython",
    "version": 3
   },
   "file_extension": ".py",
   "mimetype": "text/x-python",
   "name": "python",
   "nbconvert_exporter": "python",
   "pygments_lexer": "ipython3",
   "version": "3.11.10"
  }
 },
 "nbformat": 4,
 "nbformat_minor": 5
}
